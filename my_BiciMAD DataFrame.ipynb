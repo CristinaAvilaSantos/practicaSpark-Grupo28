{
 "cells": [
  {
   "cell_type": "markdown",
   "metadata": {},
   "source": [
    "Para comenzar, importamos los paquetes necesarios para nuestro programa"
   ]
  },
  {
   "cell_type": "code",
   "execution_count": 125,
   "metadata": {},
   "outputs": [],
   "source": [
    "from pyspark.sql import SparkSession\n",
    "from matplotlib import pyplot as plt\n",
    "from datetime import date\n",
    "from pyspark.sql.functions import udf\n",
    "from pyspark.sql.types import IntegerType\n",
    "from pyspark.sql.types import *\n",
    "from pyspark.sql.functions import udf, pandas_udf, PandasUDFType\n",
    "spark = SparkSession.builder.getOrCreate()"
   ]
  },
  {
   "cell_type": "markdown",
   "metadata": {},
   "source": [
    "Introducimos la base de datos que utilizaremos y la filtramos, eliminando las columnas que no nos son de utilidad"
   ]
  },
  {
   "cell_type": "code",
   "execution_count": 81,
   "metadata": {},
   "outputs": [],
   "source": [
    "df = spark.read.json('data100000.json')\n",
    "df = df.drop('_id','idplug_base','idunplug_base','track', 'zip_code')"
   ]
  },
  {
   "cell_type": "markdown",
   "metadata": {},
   "source": [
    "Generamos una nueva base de datos, añadiendole una columna que indica el día de la semana en el que estamos, siendo 0 el lunes y 6 el domingo. A esta nueva base de datos la llamamos df1"
   ]
  },
  {
   "cell_type": "code",
   "execution_count": 82,
   "metadata": {},
   "outputs": [],
   "source": [
    "def get_weekday(hourtime):\n",
    "\n",
    "    try:\n",
    "        year = int(hourtime[:4])\n",
    "        month = int(hourtime[5:7])\n",
    "        day = int(hourtime[8:10])\n",
    "\n",
    "        return date(year, month, day).weekday()\n",
    "    except BaseException:\n",
    "        year = int(hourtime[10:14])\n",
    "        month = int(hourtime[15:17])\n",
    "        day = int(hourtime[18:20])\n",
    "\n",
    "        return date(year, month, day).weekday()\n",
    "\n",
    "day_func = udf(lambda x: get_weekday(x), IntegerType())\n",
    "df1 = df.withColumn('get_weekday', day_func(df['unplug_hourTime']))"
   ]
  },
  {
   "cell_type": "markdown",
   "metadata": {},
   "source": [
    "Realizamos lo mismo que para los dias de la semana, pero esta vez para el año. Generamos una nueva base de datos (df2), añadiendole a df1 una columna que nos indica el año. Acto seguido, generamos dos bases de datos diferenciadas, una para 2018 (df2018) y otra para 2020 (df2020)"
   ]
  },
  {
   "cell_type": "code",
   "execution_count": 84,
   "metadata": {},
   "outputs": [],
   "source": [
    "def get_year(hourtime):\n",
    "    try:\n",
    "        year = int(hourtime[:4])\n",
    "        return year\n",
    "\n",
    "    except BaseException:\n",
    "        year = int(hourtime[10:14])\n",
    "        return year\n",
    "\n",
    "year_func = udf(lambda x: get_year(x), IntegerType())    \n",
    "df2 = df1.withColumn('get_year', year_func(df1['unplug_hourTime']))\n",
    "df2018 = df2.filter(df2['get_year']==2018)\n",
    "df2020 = df2.filter(df2['get_year']==2020)\n"
   ]
  },
  {
   "cell_type": "markdown",
   "metadata": {},
   "source": [
    "En esta sección estoy sacando los graficos de uso de cada estacion (de dejada de bici, en caso de querer la de \"cogida\" solo habria que cambiar 'idunplug_station' por 'idplug_station'). Para ello genero estacionesxx, agrupando por estaciones y haciendo un recuento del uso de cada una de ellas, despues paso a una lista cada una de las dos columnas de la table y por ultimo genero el grafico."
   ]
  },
  {
   "cell_type": "code",
   "execution_count": 85,
   "metadata": {},
   "outputs": [
    {
     "data": {
      "image/png": "[encoded data removed]",
      "text/plain": [
       "<Figure size 432x288 with 1 Axes>"
      ]
     },
     "metadata": {
      "needs_background": "light"
     },
     "output_type": "display_data"
    },
    {
     "data": {
      "image/png": "[encoded data removed]",
      "text/plain": [
       "<Figure size 432x288 with 1 Axes>"
      ]
     },
     "metadata": {
      "needs_background": "light"
     },
     "output_type": "display_data"
    }
   ],
   "source": [
    "estaciones20 = df2020.groupBy(df2020['idunplug_station']).count()\n",
    "estaciones18 = df2018.groupBy(df2018['idunplug_station']).count()\n",
    "\n",
    "est18list = estaciones18.select('idunplug_station').rdd.flatMap(lambda x: x).collect()\n",
    "count_est18list = estaciones18.select('count').rdd.flatMap(lambda x: x).collect()\n",
    "\n",
    "est20list = estaciones20.select('idunplug_station').rdd.flatMap(lambda x: x).collect()\n",
    "count_est20list = estaciones20.select('count').rdd.flatMap(lambda x: x).collect()\n",
    "\n",
    "fig, ax = plt.subplots()\n",
    "ax.bar(est18list, count_est18list)\n",
    "plt.xlabel('Número de estación')\n",
    "plt.ylabel('Recuento de uso')\n",
    "plt.title('Uso estaciones 2018')\n",
    "plt.show()\n",
    "\n",
    "fig, ax = plt.subplots()\n",
    "ax.bar(est20list, count_est20list)\n",
    "plt.xlabel('Número de estación')\n",
    "plt.ylabel('Recuento de uso')\n",
    "plt.title('Uso estaciones 2020')\n",
    "plt.show()\n"
   ]
  },
  {
   "cell_type": "markdown",
   "metadata": {},
   "source": [
    "voy  a hacer el tratamiento de datos de edades:\n",
    "primero hago un recuento del total de personas que usaron la bicicleta cada dia de la semana en cada año"
   ]
  },
  {
   "cell_type": "code",
   "execution_count": 107,
   "metadata": {},
   "outputs": [],
   "source": [
    "weekday18 = df2018.groupBy('get_weekday').count()\n",
    "weekday20 = df2020.groupBy('get_weekday').count()\n"
   ]
  },
  {
   "cell_type": "markdown",
   "metadata": {},
   "source": [
    "generamos data frames para cada de edad, de manera que podemos ver cuantas personas de cada edad usan la bicicleta cada dia de la semana, para, posteriormente, calcular porcentajes."
   ]
  },
  {
   "cell_type": "code",
   "execution_count": 100,
   "metadata": {},
   "outputs": [],
   "source": [
    "edades2018_0 = df2018.filter(df2018['ageRange']== 0)\n",
    "edades2018_0 = edades2018_0.groupBy(edades2018_0['get_weekday']).count()\n",
    "edades2018_1 = df2018.filter(df2018['ageRange']== 1)\n",
    "edades2018_1 = edades2018_1.groupBy(edades2018_1['get_weekday']).count()\n",
    "edades2018_2 = df2018.filter(df2018['ageRange']== 2)\n",
    "edades2018_2 = edades2018_2.groupBy(edades2018_2['get_weekday']).count()\n",
    "edades2018_3 = df2018.filter(df2018['ageRange']== 3)\n",
    "edades2018_3 = edades2018_3.groupBy(edades2018_3['get_weekday']).count()\n",
    "edades2018_4 = df2018.filter(df2018['ageRange']== 4)\n",
    "edades2018_4 = edades2018_4.groupBy(edades2018_4['get_weekday']).count()\n",
    "edades2018_5 = df2018.filter(df2018['ageRange']== 5)\n",
    "edades2018_5 = edades2018_5.groupBy(edades2018_5['get_weekday']).count()\n",
    "edades2018_6 = df2018.filter(df2018['ageRange']== 6)\n",
    "edades2018_6 = edades2018_6.groupBy(edades2018_6['get_weekday']).count()\n",
    "\n",
    "edades2020_0 = df2020.filter(df2020['ageRange']== 0)\n",
    "edades2020_0 = edades2020_0.groupBy(edades2020_0['get_weekday']).count()\n",
    "edades2020_1 = df2020.filter(df2020['ageRange']== 1)\n",
    "edades2020_1 = edades2020_1.groupBy(edades2020_1['get_weekday']).count()\n",
    "edades2020_2 = df2020.filter(df2020['ageRange']== 2)\n",
    "edades2020_2 = edades2020_2.groupBy(edades2020_2['get_weekday']).count()\n",
    "edades2020_3 = df2020.filter(df2020['ageRange']== 3)\n",
    "edades2020_3 = edades2020_3.groupBy(edades2020_3['get_weekday']).count()\n",
    "edades2020_4 = df2020.filter(df2020['ageRange']== 4)\n",
    "edades2020_4 = edades2020_4.groupBy(edades2020_4['get_weekday']).count()\n",
    "edades2020_5 = df2020.filter(df2020['ageRange']== 5)\n",
    "edades2020_5 =edades2020_5.groupBy(edades2020_5['get_weekday']).count()\n",
    "edades2020_6 = df2020.filter(df2020['ageRange']== 6)\n",
    "edades2020_6 = edades2020_6.groupBy(edades2020_6['get_weekday']).count()\n"
   ]
  },
  {
   "cell_type": "markdown",
   "metadata": {},
   "source": [
    "calculamos los porcentajes, cogiendo el total de cada dia de la semana de weekdayxx, y la cantidad de uso de cada grupo de personas edadesxxxx_x"
   ]
  },
  {
   "cell_type": "code",
   "execution_count": 134,
   "metadata": {},
   "outputs": [
    {
     "name": "stdout",
     "output_type": "stream",
     "text": [
      "+-----------+-----+\n",
      "|get_weekday|count|\n",
      "+-----------+-----+\n",
      "|          1| 8236|\n",
      "|          6| 5613|\n",
      "|          3| 8450|\n",
      "|          5| 5902|\n",
      "|          4| 7741|\n",
      "|          2| 8232|\n",
      "|          0| 8018|\n",
      "+-----------+-----+\n",
      "\n",
      "DataFrame[get_weekday: int, count: bigint]\n"
     ]
    }
   ],
   "source": [
    "weekday18.show()\n",
    "weekday18_0 = weekday18.filter(weekday18['get_weekday'] == 0)\n",
    "print(weekday18_0)\n"
   ]
  }
 ],
 "metadata": {
  "interpreter": {
   "hash": "e7370f93d1d0cde622a1f8e1c04877d8463912d04d973331ad4851f04de6915a"
  },
  "kernelspec": {
   "display_name": "Python 3 (ipykernel)",
   "language": "python",
   "name": "python3"
  },
  "language_info": {
   "codemirror_mode": {
    "name": "ipython",
    "version": 3
   },
   "file_extension": ".py",
   "mimetype": "text/x-python",
   "name": "python",
   "nbconvert_exporter": "python",
   "pygments_lexer": "ipython3",
   "version": "3.7.3"
  }
 },
 "nbformat": 4,
 "nbformat_minor": 4
}
