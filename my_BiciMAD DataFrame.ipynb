{
 "cells": [
  {
   "cell_type": "markdown",
   "metadata": {},
   "source": [
    "Para comenzar, importamos los paquetes necesarios para nuestro programa"
   ]
  },
  {
   "cell_type": "code",
   "execution_count": 47,
   "metadata": {},
   "outputs": [],
   "source": [
    "import pyspark\n",
    "from pyspark.sql import SparkSession\n",
    "from matplotlib import pyplot as plt\n",
    "from datetime import date\n",
    "from pyspark.sql.functions import udf\n",
    "from pyspark.sql.types import IntegerType\n",
    "from pyspark.sql.types import *\n",
    "from pyspark.sql.functions import udf, pandas_udf, PandasUDFType\n",
    "spark = SparkSession.builder.getOrCreate()"
   ]
  },
  {
   "cell_type": "markdown",
   "metadata": {},
   "source": [
    "Introducimos la base de datos que utilizaremos y la filtramos, eliminando las columnas que no nos son de utilidad"
   ]
  },
  {
   "cell_type": "code",
   "execution_count": 48,
   "metadata": {},
   "outputs": [
    {
     "name": "stdout",
     "output_type": "stream",
     "text": [
      "Nos quedamos con un 49.872 % de los datos, ya que el resto no nos aportan informacion acerca del estudio que estamos realizando\n"
     ]
    }
   ],
   "source": [
    "df_original = spark.read.json('data100000.json')\n",
    "df = df_original.drop('_id','idplug_base','idunplug_base','track', 'zip_code')\n",
    "df = df.where('user_type!= 3')\n",
    "df = df.where('ageRange!= 0')\n",
    "porcentaje_optimo = df.count() * 100 / df_original.count()\n",
    "print('Nos quedamos con un', porcentaje_optimo, '% de los datos, ya que el resto no nos aportan informacion acerca del estudio que estamos realizando')\n",
    "\n"
   ]
  },
  {
   "cell_type": "markdown",
   "metadata": {},
   "source": [
    "Generamos una nueva base de datos, añadiendole una columna que indica el día de la semana en el que estamos, siendo 0 el lunes y 6 el domingo. A esta nueva base de datos la llamamos df1"
   ]
  },
  {
   "cell_type": "code",
   "execution_count": 49,
   "metadata": {},
   "outputs": [],
   "source": [
    "def get_weekday(hourtime):\n",
    "\n",
    "    try:\n",
    "        year = int(hourtime[:4])\n",
    "        month = int(hourtime[5:7])\n",
    "        day = int(hourtime[8:10])\n",
    "\n",
    "        return date(year, month, day).weekday()\n",
    "    except BaseException:\n",
    "        year = int(hourtime[10:14])\n",
    "        month = int(hourtime[15:17])\n",
    "        day = int(hourtime[18:20])\n",
    "\n",
    "        return date(year, month, day).weekday()\n",
    "\n",
    "day_func = udf(lambda x: get_weekday(x), IntegerType())\n",
    "df1 = df.withColumn('get_weekday', day_func(df['unplug_hourTime']))"
   ]
  },
  {
   "cell_type": "markdown",
   "metadata": {},
   "source": [
    "Realizamos lo mismo que para los dias de la semana, pero esta vez para el año. Generamos una nueva base de datos (df2), añadiendole a df1 una columna que nos indica el año. Acto seguido, generamos dos bases de datos diferenciadas, una para 2018 (df2018) y otra para 2020 (df2020)"
   ]
  },
  {
   "cell_type": "code",
   "execution_count": 50,
   "metadata": {},
   "outputs": [],
   "source": [
    "def get_year(hourtime):\n",
    "    try:\n",
    "        year = int(hourtime[:4])\n",
    "        return year\n",
    "\n",
    "    except BaseException:\n",
    "        year = int(hourtime[10:14])\n",
    "        return year\n",
    "\n",
    "year_func = udf(lambda x: get_year(x), IntegerType())    \n",
    "df2 = df1.withColumn('get_year', year_func(df1['unplug_hourTime']))\n",
    "df2018 = df2.filter(df2['get_year']==2018)\n",
    "df2020 = df2.filter(df2['get_year']==2020)\n"
   ]
  },
  {
   "cell_type": "markdown",
   "metadata": {},
   "source": [
    "voy  a hacer el tratamiento de datos de edades:\n",
    "primero hago un recuento del total de personas que usaron la bicicleta cada dia de la semana en cada año"
   ]
  },
  {
   "cell_type": "markdown",
   "metadata": {},
   "source": [
    "generamos data frames para cada de edad, de manera que podemos ver cuantas personas de cada edad usan la bicicleta cada dia de la semana, para, posteriormente, calcular porcentajes."
   ]
  },
  {
   "cell_type": "code",
   "execution_count": 51,
   "metadata": {},
   "outputs": [],
   "source": [
    "weekday18 = df2018.groupBy('get_weekday').count()\n",
    "weekday20 = df2020.groupBy('get_weekday').count()\n",
    "tablap18 = weekday18.toPandas()\n",
    "d18 = dict([(a, b) for a,b in zip(tablap18['get_weekday'], tablap18['count'])])\n",
    "tablap20 = weekday20.toPandas()\n",
    "d20 = dict([(a, b) for a,b in zip(tablap20['get_weekday'], tablap20['count'])])\n"
   ]
  },
  {
   "cell_type": "code",
   "execution_count": 52,
   "metadata": {},
   "outputs": [],
   "source": [
    "def tablas_edades(df):  #crea tablas para cada año y para cada rango de edad,  y las almacena en lista_tablas\n",
    "    lista_tablas = []\n",
    "    for i in range(1, 7):\n",
    "        tabla = df.filter(df['ageRange'] == i)                 #edades2018_0 = df2018.filter(df2018['ageRange'] == 0)\n",
    "        tabla = tabla.groupBy(tabla['get_weekday']).count()    #edades2018_0 = edades2018_0.groupBy(edades2018_0['get_weekday']).count() saca el recuento por                                                                   dias de la semana\n",
    "        lista_tablas.append(tabla)\n",
    "    return lista_tablas\n",
    "\n",
    "def muestra_tablas_edades(df): #muestra las tablas \n",
    "    tablas = tablas_edades(df)\n",
    "    for i in range(len(tablas)):\n",
    "        tablas[i].show()"
   ]
  },
  {
   "cell_type": "code",
   "execution_count": 53,
   "metadata": {},
   "outputs": [],
   "source": [
    "def pasar_Pandas(df):\n",
    "    lista_pandas = []\n",
    "    for i in range(len(tablas_edades(df))):\n",
    "        tablap = tablas_edades(df)[i].toPandas()\n",
    "        lista_pandas.append(tablap)\n",
    "    return lista_pandas\n",
    "def pasar_diccionario(df):\n",
    "    diccionarios = []\n",
    "    for i in range(len(pasar_Pandas(df))):\n",
    "        d = dict([(a, b) for a,b in zip(pasar_Pandas(df)[i]['get_weekday'], pasar_Pandas(df)[i]['count'])])\n",
    "        diccionarios.append(d)\n",
    "    return diccionarios\n",
    "lisdicc18 = pasar_diccionario(df2018)\n",
    "lisdicc20 = pasar_diccionario(df2020)\n",
    "#lista de diccionarios. Cada diccionario es para una franja de edad e indica el dia de la semana y el número de usos ese dia.\n"
   ]
  },
  {
   "cell_type": "code",
   "execution_count": 54,
   "metadata": {},
   "outputs": [
    {
     "name": "stdout",
     "output_type": "stream",
     "text": [
      "{1: 4935, 6: 2931, 3: 4931, 5: 3051, 4: 4454, 2: 4806, 0: 4644}\n",
      "[{1: 18, 6: 15, 3: 18, 5: 16, 4: 21, 2: 8, 0: 7}, {1: 90, 6: 59, 3: 115, 5: 78, 4: 79, 2: 70, 0: 95}, {1: 480, 6: 416, 3: 482, 5: 429, 4: 470, 2: 466, 0: 493}, {1: 2638, 6: 1592, 3: 2663, 5: 1675, 4: 2383, 2: 2599, 0: 2444}, {1: 1661, 6: 818, 3: 1612, 5: 825, 4: 1469, 2: 1635, 0: 1566}, {1: 48, 6: 31, 3: 41, 5: 28, 4: 32, 2: 28, 0: 39}]\n",
      "{1: 3100, 6: 1982, 3: 3275, 5: 2250, 4: 3207, 2: 3399, 0: 2905}\n",
      "[{1: 6, 6: 4, 3: 4, 5: 4, 4: 10, 2: 9, 0: 6}, {1: 37, 6: 25, 3: 26, 5: 27, 4: 36, 2: 25, 0: 26}, {1: 219, 6: 225, 3: 292, 5: 241, 4: 263, 2: 267, 0: 270}, {1: 1510, 6: 986, 3: 1591, 5: 1145, 4: 1550, 2: 1668, 0: 1365}, {1: 1296, 6: 712, 3: 1324, 5: 810, 4: 1314, 2: 1389, 0: 1212}, {1: 32, 6: 30, 3: 38, 5: 23, 4: 34, 2: 41, 0: 26}]\n"
     ]
    }
   ],
   "source": [
    "print(d18)\n",
    "print(lisdicc18)\n",
    "print(d20) \n",
    "print(lisdicc20)"
   ]
  },
  {
   "cell_type": "markdown",
   "metadata": {},
   "source": [
    "calculamos los porcentajes, cogiendo el total de cada dia de la semana de weekdayxx, y la cantidad de uso de cada grupo de personas edadesxxxx_x"
   ]
  },
  {
   "cell_type": "code",
   "execution_count": 55,
   "metadata": {},
   "outputs": [],
   "source": [
    "p = []\n",
    "for i in range(len(lisdicc18)):\n",
    "    t = []\n",
    "    for j in range(6):\n",
    "        a = 100*lisdicc18[i][j]/d18[j]\n",
    "        t.append(a)\n",
    "    p.append(t)\n",
    "\n",
    "import matplotlib.pyplot as plt\n",
    "\n",
    "edad = [1,2,3,4,5,6]\n",
    "y = []\n",
    "for i in range(len(p)):\n",
    "    lun = p[i][0]\n",
    "    y.append(lun)\n",
    "plt.xlabel('Grupos de edad')\n",
    "plt.ylabel('Tanto por ciento de uso')\n",
    "plt.title('LUNES 2018')\n",
    "plt.bar(edad, y)"
   ]
  }
 ],
 "metadata": {
  "interpreter": {
   "hash": "e7370f93d1d0cde622a1f8e1c04877d8463912d04d973331ad4851f04de6915a"
  },
  "kernelspec": {
   "display_name": "Python 3",
   "language": "python",
   "name": "python3"
  },
  "language_info": {
   "codemirror_mode": {
    "name": "ipython",
    "version": 3
   },
   "file_extension": ".py",
   "mimetype": "text/x-python",
   "name": "python",
   "nbconvert_exporter": "python",
   "pygments_lexer": "ipython3",
   "version": "3.8.10"
  }
 },
 "nbformat": 4,
 "nbformat_minor": 4
}
