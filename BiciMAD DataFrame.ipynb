{
 "cells": [
  {
   "cell_type": "code",
   "execution_count": 6,
   "metadata": {},
   "outputs": [],
   "source": [
    "from pyspark.sql import SparkSession\n",
    "spark = SparkSession.builder.getOrCreate()"
   ]
  },
  {
   "cell_type": "code",
   "execution_count": 7,
   "metadata": {},
   "outputs": [],
   "source": [
    "df = spark.read.json('data100000.json')"
   ]
  },
  {
   "cell_type": "code",
   "execution_count": 8,
   "metadata": {},
   "outputs": [
    {
     "name": "stdout",
     "output_type": "stream",
     "text": [
      "+--------------------+--------+-----------+--------------+-------------+----------------+--------------------+-----------+--------------------+--------------------+---------+--------+\n",
      "|                 _id|ageRange|idplug_base|idplug_station|idunplug_base|idunplug_station|               track|travel_time|     unplug_hourTime|       user_day_code|user_type|zip_code|\n",
      "+--------------------+--------+-----------+--------------+-------------+----------------+--------------------+-----------+--------------------+--------------------+---------+--------+\n",
      "|[5ff24c931b913134...|       0|          3|             8|           15|             108|                null|        398|2020-12-30T15:00:00Z|243a0165719d0ba39...|        1|        |\n",
      "|[5eebe4a41b913135...|       4|         22|           147|           24|             138|                null|        306|2020-01-16T18:00:00Z|930684efa2bc1e000...|        1|   28005|\n",
      "|[5eec9c7e61804667...|       0|         11|            55|           14|             177|                null|       1285|2020-06-07T19:00:00Z|98c612931b2b1aaa4...|        1|        |\n",
      "|[5f51678a1b91311b...|       0|          6|           149|           19|              37|                null|       1038|2020-08-30T14:00:00Z|c4fc91c7b4c2f0083...|        1|        |\n",
      "|[5ba02b9a2f384337...|       0|          4|            95|            2|             149|[[[[[-3.684893, 4...|        777|{\"$date\":\"2018-09...|017be7543ec9e86a4...|        1|        |\n",
      "|[5f77a3451b913127...|       4|         18|             4|            4|             130|                null|        447|2020-09-28T17:00:00Z|c08d5c958726d256f...|        1|   28005|\n",
      "|[5f822f2a1b91311a...|       0|          4|            12|            1|               3|                null|        357|2020-10-06T15:00:00Z|d4f270559210286d7...|        1|        |\n",
      "|[5b9c8c462f38433e...|       5|         18|           155|            9|              85|[[[[[-3.678525299...|       1130|{\"$date\":\"2018-09...|9ac477889f96f8502...|        1|   28045|\n",
      "|[5f7651c81b913111...|       0|         16|           123|           20|             192|                null|        790|2020-09-27T19:00:00Z|42311f2294403c82f...|        1|        |\n",
      "|[5fd940101b913120...|       4|          1|           132|            6|             131|                null|        484|2020-12-11T12:00:00Z|c4c2eb85a15875288...|        1|   28008|\n",
      "|[5f8e0cad1b913142...|       5|         19|            47|            5|              13|                null|       1271|2020-10-15T14:00:00Z|b50b6b9622e6c7564...|        1|   28007|\n",
      "|[5f628b4d1b913150...|       4|         27|            35|            6|             159|                null|       1260|2020-09-12T19:00:00Z|b13acf7d2d6b7d354...|        1|   41018|\n",
      "|[5a6ab9ab2f384329...|       0|          8|           120|           23|             116|                null|        388|{\"$date\":\"2018-01...|617c13a52dee949ee...|        1|        |\n",
      "|[5ae4f31a2f384338...|       5|         23|            76|           15|              76|                null|       1657|{\"$date\":\"2018-04...|48f9df514c718af74...|        1|   28007|\n",
      "|[5b6cbe372f38433d...|       0|          7|           135|            3|             135|[[[[[-3.697513799...|       3618|{\"$date\":\"2018-08...|f8af3cb83cb01c950...|        1|        |\n",
      "|[5eec7fde56bdeb04...|       5|         15|            66|           13|              46|                null|       1042|2020-03-06T04:00:00Z|6c348c74d628f8a4d...|        1|   28012|\n",
      "|[5eec806656bdeb04...|       4|         22|           197|            4|             203|                null|        453|2020-03-07T00:00:00Z|d775069ee523b5d42...|        1|   28036|\n",
      "|[5eec8d5f1b91312c...|       0|         24|            82|            8|              82|                null|       3445|2020-05-20T18:00:00Z|d72d28a735682cee3...|        1|        |\n",
      "|[5a617e172f38432c...|       5|          9|             1|            7|              24|                null|        127|{\"$date\":\"2018-01...|a9f2ae9ac48dee9d8...|        1|   28005|\n",
      "|[5a7f26302f384339...|       4|          7|            63|           11|              56|                null|        891|{\"$date\":\"2018-02...|857615b2018e93017...|        1|   28015|\n",
      "+--------------------+--------+-----------+--------------+-------------+----------------+--------------------+-----------+--------------------+--------------------+---------+--------+\n",
      "only showing top 20 rows\n",
      "\n"
     ]
    },
    {
     "data": {
      "text/plain": [
       "100000"
      ]
     },
     "execution_count": 8,
     "metadata": {},
     "output_type": "execute_result"
    }
   ],
   "source": [
    "df.show()\n",
    "df.count()"
   ]
  },
  {
   "cell_type": "code",
   "execution_count": 9,
   "metadata": {},
   "outputs": [
    {
     "name": "stdout",
     "output_type": "stream",
     "text": [
      "+--------+--------------+----------------+-----------+--------------------+--------------------+---------+--------+\n",
      "|ageRange|idplug_station|idunplug_station|travel_time|     unplug_hourTime|       user_day_code|user_type|zip_code|\n",
      "+--------+--------------+----------------+-----------+--------------------+--------------------+---------+--------+\n",
      "|       0|             8|             108|        398|2020-12-30T15:00:00Z|243a0165719d0ba39...|        1|        |\n",
      "|       4|           147|             138|        306|2020-01-16T18:00:00Z|930684efa2bc1e000...|        1|   28005|\n",
      "|       0|            55|             177|       1285|2020-06-07T19:00:00Z|98c612931b2b1aaa4...|        1|        |\n",
      "|       0|           149|              37|       1038|2020-08-30T14:00:00Z|c4fc91c7b4c2f0083...|        1|        |\n",
      "|       0|            95|             149|        777|{\"$date\":\"2018-09...|017be7543ec9e86a4...|        1|        |\n",
      "|       4|             4|             130|        447|2020-09-28T17:00:00Z|c08d5c958726d256f...|        1|   28005|\n",
      "|       0|            12|               3|        357|2020-10-06T15:00:00Z|d4f270559210286d7...|        1|        |\n",
      "|       5|           155|              85|       1130|{\"$date\":\"2018-09...|9ac477889f96f8502...|        1|   28045|\n",
      "|       0|           123|             192|        790|2020-09-27T19:00:00Z|42311f2294403c82f...|        1|        |\n",
      "|       4|           132|             131|        484|2020-12-11T12:00:00Z|c4c2eb85a15875288...|        1|   28008|\n",
      "|       5|            47|              13|       1271|2020-10-15T14:00:00Z|b50b6b9622e6c7564...|        1|   28007|\n",
      "|       4|            35|             159|       1260|2020-09-12T19:00:00Z|b13acf7d2d6b7d354...|        1|   41018|\n",
      "|       0|           120|             116|        388|{\"$date\":\"2018-01...|617c13a52dee949ee...|        1|        |\n",
      "|       5|            76|              76|       1657|{\"$date\":\"2018-04...|48f9df514c718af74...|        1|   28007|\n",
      "|       0|           135|             135|       3618|{\"$date\":\"2018-08...|f8af3cb83cb01c950...|        1|        |\n",
      "|       5|            66|              46|       1042|2020-03-06T04:00:00Z|6c348c74d628f8a4d...|        1|   28012|\n",
      "|       4|           197|             203|        453|2020-03-07T00:00:00Z|d775069ee523b5d42...|        1|   28036|\n",
      "|       0|            82|              82|       3445|2020-05-20T18:00:00Z|d72d28a735682cee3...|        1|        |\n",
      "|       5|             1|              24|        127|{\"$date\":\"2018-01...|a9f2ae9ac48dee9d8...|        1|   28005|\n",
      "|       4|            63|              56|        891|{\"$date\":\"2018-02...|857615b2018e93017...|        1|   28015|\n",
      "+--------+--------------+----------------+-----------+--------------------+--------------------+---------+--------+\n",
      "only showing top 20 rows\n",
      "\n"
     ]
    }
   ],
   "source": [
    "df = df.drop('_id','idplug_base','idunplug_base','track')\n",
    "df.show()\n",
    "# to fit df in page and see more clearly the results"
   ]
  },
  {
   "cell_type": "code",
   "execution_count": 10,
   "metadata": {},
   "outputs": [
    {
     "name": "stdout",
     "output_type": "stream",
     "text": [
      "+--------+-----+\n",
      "|ageRange|count|\n",
      "+--------+-----+\n",
      "|       0|45242|\n",
      "|       6|  471|\n",
      "|       5|19523|\n",
      "|       1| 1019|\n",
      "|       3| 5280|\n",
      "|       2|  788|\n",
      "|       4|27677|\n",
      "+--------+-----+\n",
      "\n"
     ]
    }
   ],
   "source": [
    "#1 Contar cada tipo\n",
    "df.groupBy('ageRange').count().show()"
   ]
  },
  {
   "cell_type": "code",
   "execution_count": 11,
   "metadata": {},
   "outputs": [
    {
     "name": "stdout",
     "output_type": "stream",
     "text": [
      "+--------------+-----+\n",
      "|idplug_station|count|\n",
      "+--------------+-----+\n",
      "|            26|  701|\n",
      "|            29|  164|\n",
      "|            65|  553|\n",
      "|           191|   87|\n",
      "|           270|    1|\n",
      "|           222|    8|\n",
      "|           243|    1|\n",
      "|            19|  831|\n",
      "|            54|  477|\n",
      "|           155|  502|\n",
      "|           113|  555|\n",
      "|           167|  462|\n",
      "|           112|  318|\n",
      "|           241|    5|\n",
      "|           237|    1|\n",
      "|           198|  195|\n",
      "|           130|  515|\n",
      "|           196|  220|\n",
      "|             7|  511|\n",
      "|            77|  575|\n",
      "+--------------+-----+\n",
      "only showing top 20 rows\n",
      "\n"
     ]
    }
   ],
   "source": [
    "#1 Contar cada tipo\n",
    "df.groupBy('idplug_station').count().show()"
   ]
  },
  {
   "cell_type": "code",
   "execution_count": 12,
   "metadata": {},
   "outputs": [
    {
     "name": "stdout",
     "output_type": "stream",
     "text": [
      "+--------+--------------+----------------+-----------+--------------------+--------------------+---------+--------+\n",
      "|ageRange|idplug_station|idunplug_station|travel_time|     unplug_hourTime|       user_day_code|user_type|zip_code|\n",
      "+--------+--------------+----------------+-----------+--------------------+--------------------+---------+--------+\n",
      "|       0|             8|             108|        398|2020-12-30T15:00:00Z|243a0165719d0ba39...|        1|        |\n",
      "|       4|           147|             138|        306|2020-01-16T18:00:00Z|930684efa2bc1e000...|        1|   28005|\n",
      "|       0|            55|             177|       1285|2020-06-07T19:00:00Z|98c612931b2b1aaa4...|        1|        |\n",
      "|       0|           149|              37|       1038|2020-08-30T14:00:00Z|c4fc91c7b4c2f0083...|        1|        |\n",
      "|       0|            95|             149|        777|{\"$date\":\"2018-09...|017be7543ec9e86a4...|        1|        |\n",
      "|       4|             4|             130|        447|2020-09-28T17:00:00Z|c08d5c958726d256f...|        1|   28005|\n",
      "|       0|            12|               3|        357|2020-10-06T15:00:00Z|d4f270559210286d7...|        1|        |\n",
      "|       5|           155|              85|       1130|{\"$date\":\"2018-09...|9ac477889f96f8502...|        1|   28045|\n",
      "|       0|           123|             192|        790|2020-09-27T19:00:00Z|42311f2294403c82f...|        1|        |\n",
      "|       4|           132|             131|        484|2020-12-11T12:00:00Z|c4c2eb85a15875288...|        1|   28008|\n",
      "|       5|            47|              13|       1271|2020-10-15T14:00:00Z|b50b6b9622e6c7564...|        1|   28007|\n",
      "|       4|            35|             159|       1260|2020-09-12T19:00:00Z|b13acf7d2d6b7d354...|        1|   41018|\n",
      "|       0|           120|             116|        388|{\"$date\":\"2018-01...|617c13a52dee949ee...|        1|        |\n",
      "|       5|            76|              76|       1657|{\"$date\":\"2018-04...|48f9df514c718af74...|        1|   28007|\n",
      "|       0|           135|             135|       3618|{\"$date\":\"2018-08...|f8af3cb83cb01c950...|        1|        |\n",
      "|       5|            66|              46|       1042|2020-03-06T04:00:00Z|6c348c74d628f8a4d...|        1|   28012|\n",
      "|       4|           197|             203|        453|2020-03-07T00:00:00Z|d775069ee523b5d42...|        1|   28036|\n",
      "|       0|            82|              82|       3445|2020-05-20T18:00:00Z|d72d28a735682cee3...|        1|        |\n",
      "|       5|             1|              24|        127|{\"$date\":\"2018-01...|a9f2ae9ac48dee9d8...|        1|   28005|\n",
      "|       4|            63|              56|        891|{\"$date\":\"2018-02...|857615b2018e93017...|        1|   28015|\n",
      "+--------+--------------+----------------+-----------+--------------------+--------------------+---------+--------+\n",
      "only showing top 20 rows\n",
      "\n"
     ]
    },
    {
     "data": {
      "text/plain": [
       "92213"
      ]
     },
     "execution_count": 12,
     "metadata": {},
     "output_type": "execute_result"
    }
   ],
   "source": [
    "#2 Filtro\n",
    "df1 = df.filter(df[\"user_type\"]==1)\n",
    "df1.show()\n",
    "df1.count()"
   ]
  },
  {
   "cell_type": "code",
   "execution_count": 13,
   "metadata": {},
   "outputs": [
    {
     "name": "stdout",
     "output_type": "stream",
     "text": [
      "+--------------------+-----+\n",
      "|       user_day_code|count|\n",
      "+--------------------+-----+\n",
      "|ea339b5f3de1d6c50...|    1|\n",
      "|f484a0137582ed435...|    1|\n",
      "|bb6a617c5d9f0c211...|    1|\n",
      "|d247c100234fddcdc...|    1|\n",
      "|3fd8a5993316cc483...|    1|\n",
      "|860d843730aa2507b...|    1|\n",
      "|49a6d7d13c5000068...|    1|\n",
      "|c24a7a88a8420d1ee...|    1|\n",
      "|dc75cab167092804a...|    1|\n",
      "|8bb72da3bbb36b91e...|    1|\n",
      "|a2d85d6bf5afbb7db...|    1|\n",
      "|901b0bd8d3447972d...|    2|\n",
      "|8e1e0034329ce714d...|    1|\n",
      "|a90aac62b9518cf2c...|    1|\n",
      "|795d3fb1f6e3204b4...|    1|\n",
      "|de543ed673e8a2cc8...|    1|\n",
      "|0c8df0f4fae03a156...|    1|\n",
      "|c82d8bcc7c480fb21...|    1|\n",
      "|8dd11cfaae0c3411b...|    1|\n",
      "|7c5a8a0560ba7accc...|    1|\n",
      "+--------------------+-----+\n",
      "only showing top 20 rows\n",
      "\n"
     ]
    }
   ],
   "source": [
    "#3\n",
    "df_trips = df1.groupBy('user_day_code').count()\n",
    "df_trips.show()"
   ]
  },
  {
   "cell_type": "code",
   "execution_count": 14,
   "metadata": {},
   "outputs": [
    {
     "name": "stdout",
     "output_type": "stream",
     "text": [
      "+--------------------+-----+\n",
      "|       user_day_code|count|\n",
      "+--------------------+-----+\n",
      "|ea339b5f3de1d6c50...|    1|\n",
      "|f484a0137582ed435...|    1|\n",
      "|bb6a617c5d9f0c211...|    1|\n",
      "|d247c100234fddcdc...|    1|\n",
      "|3fd8a5993316cc483...|    1|\n",
      "|860d843730aa2507b...|    1|\n",
      "|49a6d7d13c5000068...|    1|\n",
      "|c24a7a88a8420d1ee...|    1|\n",
      "|dc75cab167092804a...|    1|\n",
      "|8bb72da3bbb36b91e...|    1|\n",
      "|a2d85d6bf5afbb7db...|    1|\n",
      "|8e1e0034329ce714d...|    1|\n",
      "|a90aac62b9518cf2c...|    1|\n",
      "|795d3fb1f6e3204b4...|    1|\n",
      "|de543ed673e8a2cc8...|    1|\n",
      "|0c8df0f4fae03a156...|    1|\n",
      "|c82d8bcc7c480fb21...|    1|\n",
      "|8dd11cfaae0c3411b...|    1|\n",
      "|7c5a8a0560ba7accc...|    1|\n",
      "|2e56e923544304b2e...|    1|\n",
      "+--------------------+-----+\n",
      "only showing top 20 rows\n",
      "\n"
     ]
    }
   ],
   "source": [
    "df_trips.filter(df_trips['count']==1).show()"
   ]
  },
  {
   "cell_type": "code",
   "execution_count": 15,
   "metadata": {},
   "outputs": [
    {
     "name": "stdout",
     "output_type": "stream",
     "text": [
      "+--------------------+-----+\n",
      "|       user_day_code|count|\n",
      "+--------------------+-----+\n",
      "|ea339b5f3de1d6c50...|    1|\n",
      "|f484a0137582ed435...|    1|\n",
      "|bb6a617c5d9f0c211...|    1|\n",
      "|d247c100234fddcdc...|    1|\n",
      "|3fd8a5993316cc483...|    1|\n",
      "|860d843730aa2507b...|    1|\n",
      "|49a6d7d13c5000068...|    1|\n",
      "|c24a7a88a8420d1ee...|    1|\n",
      "|dc75cab167092804a...|    1|\n",
      "|8bb72da3bbb36b91e...|    1|\n",
      "|a2d85d6bf5afbb7db...|    1|\n",
      "|8e1e0034329ce714d...|    1|\n",
      "|a90aac62b9518cf2c...|    1|\n",
      "|795d3fb1f6e3204b4...|    1|\n",
      "|de543ed673e8a2cc8...|    1|\n",
      "|0c8df0f4fae03a156...|    1|\n",
      "|c82d8bcc7c480fb21...|    1|\n",
      "|8dd11cfaae0c3411b...|    1|\n",
      "|7c5a8a0560ba7accc...|    1|\n",
      "|2e56e923544304b2e...|    1|\n",
      "+--------------------+-----+\n",
      "only showing top 20 rows\n",
      "\n"
     ]
    }
   ],
   "source": [
    "#lo mismo en una línea\n",
    "from pyspark.sql.functions import col\n",
    "df1.groupBy('user_day_code').count().alias('trips').filter(col('trips.count')==1).show()"
   ]
  },
  {
   "cell_type": "code",
   "execution_count": 16,
   "metadata": {},
   "outputs": [
    {
     "name": "stdout",
     "output_type": "stream",
     "text": [
      "+-----+-----+\n",
      "|count|count|\n",
      "+-----+-----+\n",
      "|    1|90762|\n",
      "|    3|    7|\n",
      "|    2|  715|\n",
      "+-----+-----+\n",
      "\n"
     ]
    }
   ],
   "source": [
    "#4. Histograma de viajes\n",
    "df1.groupBy('user_day_code').count().groupBy('count').count().show()"
   ]
  },
  {
   "cell_type": "code",
   "execution_count": 17,
   "metadata": {},
   "outputs": [
    {
     "name": "stdout",
     "output_type": "stream",
     "text": [
      "+-----------+-----+\n",
      "|trip_number|count|\n",
      "+-----------+-----+\n",
      "|          1|90762|\n",
      "|          3|    7|\n",
      "|          2|  715|\n",
      "+-----------+-----+\n",
      "\n"
     ]
    }
   ],
   "source": [
    "df1.groupBy('user_day_code').count().withColumnRenamed('count','trip_number').\\\n",
    "    groupBy('trip_number').count().show()"
   ]
  },
  {
   "cell_type": "code",
   "execution_count": 18,
   "metadata": {},
   "outputs": [],
   "source": [
    "#5. Return trip. \n",
    "\n",
    "#En las celdas anteriores, vemos que al agrupar perdemos la información.  \n",
    "#se echa de menos el poder trabajar con los datos agregados.\n"
   ]
  },
  {
   "cell_type": "code",
   "execution_count": 19,
   "metadata": {},
   "outputs": [
    {
     "name": "stdout",
     "output_type": "stream",
     "text": [
      "+--------------------+------------------------------------------------------+\n",
      "|       user_day_code|collect_list(struct(idunplug_station, idplug_station))|\n",
      "+--------------------+------------------------------------------------------+\n",
      "|00226b65fe04bc857...|                                          [[170, 155]]|\n",
      "|00b3beecedf8fec46...|                                          [[157, 160]]|\n",
      "|0202a4cfc634f4d54...|                                           [[28, 101]]|\n",
      "|022a11591f3a621c6...|                                  [[83, 83], [166, ...|\n",
      "|024e84165f2bded3e...|                                           [[45, 187]]|\n",
      "|025c39b91ab427c5c...|                                           [[77, 218]]|\n",
      "|0311cb0b884618ab2...|                                             [[90, 1]]|\n",
      "|049339dd7d59a2e00...|                                            [[33, 53]]|\n",
      "|050eb9ed07c808ff8...|                                           [[63, 117]]|\n",
      "|05abce6b89af451ac...|                                           [[189, 76]]|\n",
      "|05ae48f91163eab0c...|                                           [[58, 149]]|\n",
      "|066cd7e0023944735...|                                          [[175, 174]]|\n",
      "|06d50fc431dd96585...|                                            [[56, 16]]|\n",
      "|06f298d02d11beb86...|                                            [[57, 41]]|\n",
      "|0979cc9e31051f04e...|                                          [[179, 188]]|\n",
      "|0a3636297f84a0ba4...|                                            [[55, 41]]|\n",
      "|0a66b6a57c9c3249e...|                                            [[26, 27]]|\n",
      "|0a7ba80610a81bc98...|                                           [[108, 64]]|\n",
      "|0b84c29d6cf269a6c...|                                            [[42, 43]]|\n",
      "|0c0c7723bfb33af9f...|                                            [[74, 95]]|\n",
      "+--------------------+------------------------------------------------------+\n",
      "only showing top 20 rows\n",
      "\n"
     ]
    }
   ],
   "source": [
    "from pyspark.sql.functions import collect_list, struct\n",
    "dfg = df.groupBy('user_day_code').agg(collect_list(struct('idunplug_station','idplug_station')))\n",
    "dfg.show()"
   ]
  },
  {
   "cell_type": "code",
   "execution_count": 20,
   "metadata": {},
   "outputs": [
    {
     "name": "stdout",
     "output_type": "stream",
     "text": [
      "+--------------------+--------------------+\n",
      "|       user_day_code|              result|\n",
      "+--------------------+--------------------+\n",
      "|00226b65fe04bc857...|        [[170, 155]]|\n",
      "|00b3beecedf8fec46...|        [[157, 160]]|\n",
      "|0202a4cfc634f4d54...|         [[28, 101]]|\n",
      "|022a11591f3a621c6...|[[83, 83], [166, ...|\n",
      "|024e84165f2bded3e...|         [[45, 187]]|\n",
      "|025c39b91ab427c5c...|         [[77, 218]]|\n",
      "|0311cb0b884618ab2...|           [[90, 1]]|\n",
      "|049339dd7d59a2e00...|          [[33, 53]]|\n",
      "|050eb9ed07c808ff8...|         [[63, 117]]|\n",
      "|05abce6b89af451ac...|         [[189, 76]]|\n",
      "|05ae48f91163eab0c...|         [[58, 149]]|\n",
      "|066cd7e0023944735...|        [[175, 174]]|\n",
      "|06d50fc431dd96585...|          [[56, 16]]|\n",
      "|06f298d02d11beb86...|          [[57, 41]]|\n",
      "|0979cc9e31051f04e...|        [[179, 188]]|\n",
      "|0a3636297f84a0ba4...|          [[55, 41]]|\n",
      "|0a66b6a57c9c3249e...|          [[26, 27]]|\n",
      "|0a7ba80610a81bc98...|         [[108, 64]]|\n",
      "|0b84c29d6cf269a6c...|          [[42, 43]]|\n",
      "|0c0c7723bfb33af9f...|          [[74, 95]]|\n",
      "+--------------------+--------------------+\n",
      "only showing top 20 rows\n",
      "\n"
     ]
    }
   ],
   "source": [
    "dfg = df.groupBy('user_day_code').\\\n",
    "    agg(collect_list(struct('idunplug_station','idplug_station')).alias('result'))\n",
    "dfg.show()"
   ]
  },
  {
   "cell_type": "code",
   "execution_count": 21,
   "metadata": {},
   "outputs": [],
   "source": [
    "#aplicar la función de abajo...para calcular la longitud... ver si podemos hacer más cosas, como ver \n",
    "# que es un round trip"
   ]
  },
  {
   "cell_type": "code",
   "execution_count": 22,
   "metadata": {},
   "outputs": [
    {
     "name": "stdout",
     "output_type": "stream",
     "text": [
      "+-----------------------+\n",
      "|<lambda>(user_day_code)|\n",
      "+-----------------------+\n",
      "|                     64|\n",
      "|                     64|\n",
      "|                     64|\n",
      "|                     64|\n",
      "|                     64|\n",
      "|                     64|\n",
      "|                     64|\n",
      "|                     64|\n",
      "|                     64|\n",
      "|                     64|\n",
      "|                     64|\n",
      "|                     64|\n",
      "|                     64|\n",
      "|                     64|\n",
      "|                     64|\n",
      "|                     64|\n",
      "|                     64|\n",
      "|                     64|\n",
      "|                     64|\n",
      "|                     64|\n",
      "+-----------------------+\n",
      "only showing top 20 rows\n",
      "\n"
     ]
    }
   ],
   "source": [
    "from pyspark.sql.functions import udf\n",
    "from pyspark.sql.types import IntegerType\n",
    "\n",
    "trips_len = udf(lambda x: len(x), IntegerType())\n",
    "dfg.select(trips_len('user_day_code')).show()"
   ]
  },
  {
   "cell_type": "code",
   "execution_count": 23,
   "metadata": {},
   "outputs": [
    {
     "name": "stdout",
     "output_type": "stream",
     "text": [
      "+--------------------+--------------------+-------+\n",
      "|       user_day_code|              result|len_udc|\n",
      "+--------------------+--------------------+-------+\n",
      "|00226b65fe04bc857...|        [[170, 155]]|     64|\n",
      "|00b3beecedf8fec46...|        [[157, 160]]|     64|\n",
      "|0202a4cfc634f4d54...|         [[28, 101]]|     64|\n",
      "|022a11591f3a621c6...|[[83, 83], [166, ...|     64|\n",
      "|024e84165f2bded3e...|         [[45, 187]]|     64|\n",
      "|025c39b91ab427c5c...|         [[77, 218]]|     64|\n",
      "|0311cb0b884618ab2...|           [[90, 1]]|     64|\n",
      "|049339dd7d59a2e00...|          [[33, 53]]|     64|\n",
      "|050eb9ed07c808ff8...|         [[63, 117]]|     64|\n",
      "|05abce6b89af451ac...|         [[189, 76]]|     64|\n",
      "|05ae48f91163eab0c...|         [[58, 149]]|     64|\n",
      "|066cd7e0023944735...|        [[175, 174]]|     64|\n",
      "|06d50fc431dd96585...|          [[56, 16]]|     64|\n",
      "|06f298d02d11beb86...|          [[57, 41]]|     64|\n",
      "|0979cc9e31051f04e...|        [[179, 188]]|     64|\n",
      "|0a3636297f84a0ba4...|          [[55, 41]]|     64|\n",
      "|0a66b6a57c9c3249e...|          [[26, 27]]|     64|\n",
      "|0a7ba80610a81bc98...|         [[108, 64]]|     64|\n",
      "|0b84c29d6cf269a6c...|          [[42, 43]]|     64|\n",
      "|0c0c7723bfb33af9f...|          [[74, 95]]|     64|\n",
      "+--------------------+--------------------+-------+\n",
      "only showing top 20 rows\n",
      "\n"
     ]
    }
   ],
   "source": [
    "dfg2 = dfg.withColumn('len_udc', trips_len(dfg['user_day_code']))\n",
    "dfg2.show()"
   ]
  },
  {
   "cell_type": "code",
   "execution_count": 24,
   "metadata": {},
   "outputs": [
    {
     "name": "stdout",
     "output_type": "stream",
     "text": [
      "+--------------------+--------------------+----------+\n",
      "|       user_day_code|              result|round_trip|\n",
      "+--------------------+--------------------+----------+\n",
      "|6d2aa153f3950589d...|[[161, 137], [137...|      true|\n",
      "|72246ac8d990a2d2a...|[[137, 137], [137...|      true|\n",
      "|433a28116c1dd7339...|[[199, 125], [125...|      true|\n",
      "|cf1edc8d29e588555...|[[131, 131], [131...|      true|\n",
      "|72b91b32b5d748f9e...|[[83, 108], [108,...|      true|\n",
      "|9ea023b3c71e1a940...|  [[45, 7], [7, 45]]|      true|\n",
      "|e083939f9c727ecac...|[[11, 75], [75, 11]]|      true|\n",
      "|68102ff64e76415ce...|[[135, 135], [135...|      true|\n",
      "|f7f43bc051ebe3036...|[[128, 147], [147...|      true|\n",
      "|7abe107397db5caa8...|[[69, 69], [69, 69]]|      true|\n",
      "|e0c16f5d108d2a088...|[[31, 74], [74, 31]]|      true|\n",
      "|eda0f29e332d0682f...|[[83, 39], [39, 83]]|      true|\n",
      "|38a1a74229419b05f...|[[199, 8], [8, 199]]|      true|\n",
      "|bf46b8a63361d477d...|[[83, 53], [53, 83]]|      true|\n",
      "|5d3989a16c28466ca...|[[161, 161], [161...|      true|\n",
      "|41009a41926131b91...|[[106, 82], [82, ...|      true|\n",
      "|c08ed7e715377c7bb...|[[140, 140], [140...|      true|\n",
      "|df85b75a2692967a6...|[[9, 108], [108, 9]]|      true|\n",
      "|70b4d7044ca61ca74...|[[166, 78], [78, ...|      true|\n",
      "|f71f5f5bac9d0cdc5...|[[153, 21], [21, ...|      true|\n",
      "+--------------------+--------------------+----------+\n",
      "only showing top 20 rows\n",
      "\n"
     ]
    }
   ],
   "source": [
    "from pyspark.sql.types import BooleanType\n",
    "\n",
    "def round_trip(x):\n",
    "    if len(x) != 2:\n",
    "        return False\n",
    "    else:\n",
    "        return x[0][1] == x[1][0] and x[0][0] == x[1][1]\n",
    "\n",
    "round_trip_udf = udf(lambda x: round_trip(x), BooleanType())\n",
    "\n",
    "dfg.withColumn('round_trip', round_trip_udf(dfg['result'])).alias('dfgrt').filter(col('dfgrt.round_trip')).show()\n"
   ]
  }
 ],
 "metadata": {
  "interpreter": {
   "hash": "e7370f93d1d0cde622a1f8e1c04877d8463912d04d973331ad4851f04de6915a"
  },
  "kernelspec": {
   "display_name": "Python 3.8.10 64-bit",
   "language": "python",
   "name": "python3"
  },
  "language_info": {
   "codemirror_mode": {
    "name": "ipython",
    "version": 3
   },
   "file_extension": ".py",
   "mimetype": "text/x-python",
   "name": "python",
   "nbconvert_exporter": "python",
   "pygments_lexer": "ipython3",
   "version": "3.8.10"
  }
 },
 "nbformat": 4,
 "nbformat_minor": 4
}
